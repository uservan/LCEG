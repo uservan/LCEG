{
 "cells": [
  {
   "cell_type": "code",
   "execution_count": 30,
   "metadata": {},
   "outputs": [],
   "source": [
    "import os\n",
    "from datasets import load_dataset\n",
    "import datasets\n",
    "from datasets import Value, Sequence\n",
    "import sys\n",
    "import math\n",
    "import transformers\n",
    "\n",
    "cache_dir = '/users/PDS0352/wyang107/project/LCEG/model_cache/data'"
   ]
  },
  {
   "cell_type": "code",
   "execution_count": 3,
   "metadata": {},
   "outputs": [],
   "source": [
    "# InfiniteBench = load_dataset('xinrongzhang2022/InfiniteBench', cache_dir=cache_dir, streaming= True)\n",
    "ft = datasets.Features({\"id\": Value(\"int64\"), \"context\": Value(\"string\"), \"input\": Value(\"string\"), \"answer\": Sequence(Value(\"string\")), \"options\": Sequence(Value(\"string\"))})\n",
    "InfiniteBench = load_dataset(\"xinrongzhang2022/InfiniteBench\", features=ft, cache_dir=cache_dir, streaming=True)"
   ]
  },
  {
   "cell_type": "code",
   "execution_count": 32,
   "metadata": {},
   "outputs": [],
   "source": [
    "tokenizer = transformers.AutoTokenizer.from_pretrained('meta-llama/Llama-2-7b-hf')"
   ]
  },
  {
   "cell_type": "code",
   "execution_count": 37,
   "metadata": {},
   "outputs": [],
   "source": [
    "# 'gsm100'\n",
    "# 'codeU'\n",
    "# 'multidoc_qa'  'legal_contract_qa', 'financial_qa', 'natural_question' 'scientific_qa' \n",
    "# 'news_summ', 'patent_summ' 'tv_show_summ' 'review_summ',  'meeting_summ' \n",
    "dataset = load_dataset('L4NLP/LEval', name='gsm100'  ,split='test', cache_dir=cache_dir, streaming= True)"
   ]
  },
  {
   "cell_type": "code",
   "execution_count": 38,
   "metadata": {},
   "outputs": [
    {
     "name": "stdout",
     "output_type": "stream",
     "text": [
      "dict_keys(['instructions', 'input', 'outputs', 'source', 'evaluation'])\n",
      "1 1 exam\n",
      "5451\n"
     ]
    }
   ],
   "source": [
    "for data in dataset:\n",
    "    print(data.keys())\n",
    "    print(len(data['instructions']), len(data['outputs']), data['evaluation'])\n",
    "    tokens = tokenizer.encode(data['input'])\n",
    "    print(len(tokens))\n",
    "    break"
   ]
  },
  {
   "cell_type": "code",
   "execution_count": 39,
   "metadata": {},
   "outputs": [],
   "source": [
    "def get_dataset(path='LongBench', name='narrativeqa'):\n",
    "    new_dataset = list()\n",
    "    if path == 'LongBench':\n",
    "        dataset = load_dataset('THUDM/LongBench',name=name, split='test', cache_dir=cache_dir, streaming= True)\n",
    "        for obj in dataset:\n",
    "            new_dataset.append({\"input\": obj['input'], \"length\": len(tokenizer.encode(obj['context'])), \n",
    "                            'context':obj['context'] , 'answers':obj['answers'],\n",
    "                            'dataset':name})\n",
    "    if path == 'LEval':\n",
    "        dataset = load_dataset('L4NLP/LEval', name=name  ,split='test', cache_dir=cache_dir, streaming= True)\n",
    "        for obj in dataset:\n",
    "            new_dataset.append({\"input\": obj['instructions'], \"length\": len(tokenizer.encode(obj['input'])), \n",
    "                            'context':obj['input'] , 'answers':obj['outputs'],\n",
    "                            'dataset':name})\n",
    "    return new_dataset"
   ]
  },
  {
   "cell_type": "code",
   "execution_count": 92,
   "metadata": {},
   "outputs": [],
   "source": [
    "datasets=list()\n",
    "# 'gov_report' 'qmsum'      /'MultiNews'\n",
    "for name in (\"qasper\", \"multifieldqa_en\", \"narrativeqa\"):\n",
    "    dataset = get_dataset('LongBench',name)\n",
    "    datasets.extend(dataset)\n",
    "for name in ('multidoc_qa', 'legal_contract_qa', 'financial_qa', 'natural_question', 'scientific_qa' ):\n",
    "    dataset = get_dataset('LEval',name)\n",
    "    datasets.extend(dataset)\n",
    "datasets_id = [(data['length'], i) for i, data in enumerate(datasets)]"
   ]
  },
  {
   "cell_type": "code",
   "execution_count": 93,
   "metadata": {},
   "outputs": [
    {
     "data": {
      "text/plain": [
       "648"
      ]
     },
     "execution_count": 93,
     "metadata": {},
     "output_type": "execute_result"
    }
   ],
   "source": [
    "len(datasets_id)"
   ]
  },
  {
   "cell_type": "code",
   "execution_count": 94,
   "metadata": {},
   "outputs": [],
   "source": [
    "length =8*(2**10)\n",
    "rows = 4\n",
    "new_datasets, choices = [], []\n",
    "import random\n",
    "for i in range(rows):\n",
    "    l = length\n",
    "    while l > 0:\n",
    "        datasets_id_tmp = [data_id for data_id in datasets_id if data_id[0]<l]\n",
    "        if len(datasets_id_tmp)<=0: break\n",
    "        choice = random.choice(datasets_id_tmp)\n",
    "        choices.append(choice)\n",
    "        l = l-choice[0]\n",
    "    new_datasets.append(choices)\n",
    "    choices = []"
   ]
  },
  {
   "cell_type": "code",
   "execution_count": 95,
   "metadata": {},
   "outputs": [
    {
     "name": "stdout",
     "output_type": "stream",
     "text": [
      "2\n",
      "7779 8192\n",
      "Passage1:\n",
      "Introduction\n",
      "In this publication, we present Sentence-BERT (SBERT), a modification of the BERT network using siamese and triplet networks that is able to derive semantically meaningful sentence embeddings. This enables BERT to be used for certain new tasks, which up-to-now were not applicable for BERT. These tasks include large-scale semantic similarity comparison, clustering, and information retrieval via semantic search.\n",
      "BERT set new state-of-the-art performance on various sentence classification and sentence-pair regression tasks. BERT uses a cross-encoder: Two sentences are passed to the transformer network and the target value is predicted. However, this setup is unsuitable for various pair regression tasks due to too many possible combinations. Finding in a collection of $n=10\\,000$ sentences the pair with the highest similarity requires with BERT $n\\cdot (n-1)/2=49\\,995\\,000$ inference computations. On a modern V100 GPU, this requires about 65 hours. Similar, finding which of the over 40 million existent questions of Quora is the most similar for a new question could be modeled as a pair-wise comparison with BERT, however, answering a single query would require over 50 hours.\n",
      "A common method to address clustering and semantic search is to map each sentence to a vector space such that semantically similar sentences are close. Researchers have started to input individual sentences into BERT and to derive fixed-size sentence embeddings. The most commonly used approach is to average the BERT output layer (known as BERT embeddings) or by using the output of the first token (the [CLS] token). As we will show, this common practice yields rather bad sentence embeddings, often worse than averaging GloVe embeddings BIBREF2.\n",
      "To alleviate this issue, we developed SBERT. The siamese network architecture enables that fixed-sized vectors for input sentences can be derived. Using a similarity measure like cosine-similarity or Manhatten / Euclidean distance, semantically similar sentences can be found. These similarity measures can be performed extremely efficient on modern hardware, allowing SBERT to be used for semantic similarity search as well as for clustering. The complexity for finding the most similar sentence pair in a collection of 10,000 sentences is reduced from 65 hours with BERT to the computation of 10,000 sentence embeddings (5 seconds with SBERT) and computing cosine-similarity (0.01 seconds). By using optimized index structures, finding the most similar Quora question can be reduced from 50 hours to a few milliseconds BIBREF3.\n",
      "We fine-tune SBERT on NLI data, which creates sentence embeddings that significantly outperform other state-of-the-art sentence embedding methods like InferSent BIBREF4 and Universal Sentence Encoder BIBREF5. On seven Semantic Textual Similarity (STS) tasks, SBERT achieves an improvement of 11.7 points compared to InferSent and 5.5 points compared to Universal Sentence Encoder. On SentEval BIBREF6, an evaluation toolkit for sentence embeddings, we achieve an improvement of 2.1 and 2.6 points, respectively.\n",
      "SBERT can be adapted to a specific task. It sets new state-of-the-art performance on a challenging argument similarity dataset BIBREF7 and on a triplet dataset to distinguish sentences from different sections of a Wikipedia article BIBREF8.\n",
      "The paper is structured in the following way: Section SECREF3 presents SBERT, section SECREF4 evaluates SBERT on common STS tasks and on the challenging Argument Facet Similarity (AFS) corpus BIBREF7. Section SECREF5 evaluates SBERT on SentEval. In section SECREF6, we perform an ablation study to test some design aspect of SBERT. In section SECREF7, we compare the computational efficiency of SBERT sentence embeddings in contrast to other state-of-the-art sentence embedding methods.\n",
      "Related Work\n",
      "We first introduce BERT, then, we discuss state-of-the-art sentence embedding methods.\n",
      "BERT BIBREF0 is a pre-trained transformer network BIBREF9, which set for various NLP tasks new state-of-the-art results, including question answering, sentence classification, and sentence-pair regression. The input for BERT for sentence-pair regression consists of the two sentences, separated by a special [SEP] token. Multi-head attention over 12 (base-model) or 24 layers (large-model) is applied and the output is passed to a simple regression function to derive the final label. Using this setup, BERT set a new state-of-the-art performance on the Semantic Textual Semilarity (STS) benchmark BIBREF10. RoBERTa BIBREF1 showed, that the performance of BERT can further improved by small adaptations to the pre-training process. We also tested XLNet BIBREF11, but it led in general to worse results than BERT.\n",
      "A large disadvantage of the BERT network structure is that no independent sentence embeddings are computed, which makes it difficult to derive sentence embeddings from BERT. To bypass this limitations, researchers passed single sentences through BERT and then derive a fixed sized vector by either averaging the outputs (similar to average word embeddings) or by using the output of the special CLS token (for example: bertsentenceembeddings1,bertsentenceembeddings2,bertsentenceembeddings3). These two options are also provided by the popular bert-as-a-service-repository. Up to our knowledge, there is so far no evaluation if these methods lead to useful sentence embeddings.\n",
      "Sentence embeddings are a well studied area with dozens of proposed methods. Skip-Thought BIBREF12 trains an encoder-decoder architecture to predict the surrounding sentences. InferSent BIBREF4 uses labeled data of the Stanford Natural Language Inference dataset BIBREF13 and the Multi-Genre NLI dataset BIBREF14 to train a siamese BiLSTM network with max-pooling over the output. Conneau et al. showed, that InferSent consistently outperforms unsupervised methods like SkipThought. Universal Sentence Encoder BIBREF5 trains a transformer network and augments unsupervised learning with training on SNLI. hill-etal-2016-learning showed, that the task on which sentence embeddings are trained significantly impacts their quality. Previous work BIBREF4, BIBREF5 found that the SNLI datasets are suitable for training sentence embeddings. yang-2018-learning presented a method to train on conversations from Reddit using siamese DAN and siamese transformer networks, which yielded good results on the STS benchmark dataset.\n",
      "polyencoders addresses the run-time overhead of the cross-encoder from BERT and present a method (poly-encoders) to compute a score between $m$ context vectors and pre-computed candidate embeddings using attention. This idea works for finding the highest scoring sentence in a larger collection. However, poly-encoders have the drawback that the score function is not symmetric and the computational overhead is too large for use-cases like clustering, which would require $O(n^2)$ score computations.\n",
      "Previous neural sentence embedding methods started the training from a random initialization. In this publication, we use the pre-trained BERT and RoBERTa network and only fine-tune it to yield useful sentence embeddings. This reduces significantly the needed training time: SBERT can be tuned in less than 20 minutes, while yielding better results than comparable sentence embedding methods.\n",
      "Model\n",
      "SBERT adds a pooling operation to the output of BERT / RoBERTa to derive a fixed sized sentence embedding. We experiment with three pooling strategies: Using the output of the CLS-token, computing the mean of all output vectors (MEAN-strategy), and computing a max-over-time of the output vectors (MAX-strategy). The default configuration is MEAN.\n",
      "In order to fine-tune BERT / RoBERTa, we create siamese and triplet networks BIBREF15 to update the weights such that the produced sentence embeddings are semantically meaningful and can be compared with cosine-similarity.\n",
      "The network structure depends on the available training data. We experiment with the following structures and objective functions.\n",
      "Classification Objective Function. We concatenate the sentence embeddings $u$ and $v$ with the element-wise difference $|u-v|$ and multiply it with the trainable weight $W_t \\in \\mathbb {R}^{3n \\times k}$:\n",
      "where $n$ is the dimension of the sentence embeddings and $k$ the number of labels. We optimize cross-entropy loss. This structure is depicted in Figure FIGREF4.\n",
      "Regression Objective Function. The cosine-similarity between the two sentence embeddings $u$ and $v$ is computed (Figure FIGREF5). We use mean-squared-error loss as the objective function.\n",
      "Triplet Objective Function. Given an anchor sentence $a$, a positive sentence $p$, and a negative sentence $n$, triplet loss tunes the network such that the distance between $a$ and $p$ is smaller than the distance between $a$ and $n$. Mathematically, we minimize the following loss function:\n",
      "with $s_x$ the sentence embedding for $a$/$n$/$p$, $||\\cdot ||$ a distance metric and margin $\\epsilon $. Margin $\\epsilon $ ensures that $s_p$ is at least $\\epsilon $ closer to $s_a$ than $s_n$. As metric we use Euclidean distance and we set $\\epsilon =1$ in our experiments.\n",
      "Model ::: Training Details\n",
      "We train SBERT on the combination of the SNLI BIBREF13 and the Multi-Genre NLI BIBREF14 dataset. The SNLI is a collection of 570,000 sentence pairs annotated with the labels contradiction, eintailment, and neutral. MultiNLI contains 430,000 sentence pairs and covers a range of genres of spoken and written text. We fine-tune SBERT with a 3-way softmax-classifier objective function for one epoch. We used a batch-size of 16, Adam optimizer with learning rate $2\\mathrm {e}{-5}$, and a linear learning rate warm-up over 10% of the training data. Our default pooling strategy is MEAN.\n",
      "Evaluation - Semantic Textual Similarity\n",
      "We evaluate the performance of SBERT for common Semantic Textual Similarity (STS) tasks. State-of-the-art methods often learn a (complex) regression function that maps sentence embeddings to a similarity score. However, these regression functions work pair-wise and due to the combinatorial explosion those are often not scalable if the collection of sentences reaches a certain size. Instead, we always use cosine-similarity to compare the similarity between two sentence embeddings. We ran our experiments also with negative Manhatten and negative Euclidean distances as similarity measures, but the results for all approaches remained roughly the same.\n",
      "Evaluation - Semantic Textual Similarity ::: Unsupervised STS\n",
      "We evaluate the performance of SBERT for STS without using any STS specific training data. We use the STS tasks 2012 - 2016 BIBREF16, BIBREF17, BIBREF18, BIBREF19, BIBREF20, the STS benchmark BIBREF10, and the SICK-Relatedness dataset BIBREF21. These datasets provide labels between 0 and 5 on the semantic relatedness of sentence pairs. We showed in BIBREF22 that Pearson correlation is badly suited for STS. Instead, we compute the Spearman's rank correlation between the cosine-similarity of the sentence embeddings and the gold labels. The setup for the other sentence embedding methods is equivalent, the similarity is computed by cosine-similarity. The results are depicted in Table TABREF6.\n",
      "The results shows that directly using the output of BERT leads to rather poor performances. Averaging the BERT embeddings achieves an average correlation of only 54.81, and using the CLS-token output only achieves an average correlation of 29.19. Both are worse than computing average GloVe embeddings.\n",
      "Using the described siamese network structure and fine-tuning mechanism substantially improves the correlation, outperforming both InferSent and Universal Sentence Encoder substantially. The only dataset where SBERT performs worse than Universal Sentence Encoder is SICK-R. Universal Sentence Encoder was trained on various datasets, including news, question-answer pages and discussion forums, which appears to be more suitable to the data of SICK-R. In contrast, SBERT was pre-trained only on Wikipedia (via BERT) and on NLI data.\n",
      "While RoBERTa was able to improve the performance for several supervised tasks, we only observe minor difference between SBERT and SRoBERTa for generating sentence embeddings.\n",
      "Evaluation - Semantic Textual Similarity ::: Supervised STS\n",
      "The STS benchmark (STSb) BIBREF10 provides is a popular dataset to evaluate supervised STS systems. The data includes 8,628 sentence pairs from the three categories captions, news, and forums. It is divided into train (5,749), dev (1,500) and test (1,379). BERT set a new state-of-the-art performance on this dataset by passing both sentences to the network and using a simple regression method for the output.\n",
      "We use the training set to fine-tune SBERT using the regression objective function. At prediction time, we compute the cosine-similarity between the sentence embeddings. All systems are trained with 10 random seeds to counter variances BIBREF23.\n",
      "The results are depicted in Table TABREF10. We experimented with two setups: Only training on STSb, and first training on NLI, then training on STSb. We observe that the later strategy leads to a slight improvement of 1-2 points. This two-step approach had an especially large impact for the BERT cross-encoder, which improved the performance by 3-4 points. We do not observe a significant difference between BERT and RoBERTa.\n",
      "Evaluation - Semantic Textual Similarity ::: Argument Facet Similarity\n",
      "We evaluate SBERT on the Argument Facet Similarity (AFS) corpus by MisraEW16. The AFS corpus annotated 6,000 sentential argument pairs from social media dialogs on three controversial topics: gun control, gay marriage, and death penalty. The data was annotated on a scale from 0 (“different topic\") to 5 (“completely equivalent\"). The similarity notion in the AFS corpus is fairly different to the similarity notion in the STS datasets from SemEval. STS data is usually descriptive, while AFS data are argumentative excerpts from dialogs. To be considered similar, arguments must not only make similar claims, but also provide a similar reasoning. Further, the lexical gap between the sentences in AFS is much larger. Hence, simple unsupervised methods as well as state-of-the-art STS systems perform badly on this dataset BIBREF24.\n",
      "We evaluate SBERT on this dataset in two scenarios: 1) As proposed by Misra et al., we evaluate SBERT using 10-fold cross-validation. A draw-back of this evaluation setup is that it is not clear how well approaches generalize to different topics. Hence, 2) we evaluate SBERT in a cross-topic setup. Two topics serve for training and the approach is evaluated on the left-out topic. We repeat this for all three topics and average the results.\n",
      "SBERT is fine-tuned using the Regression Objective Function. The similarity score is computed using cosine-similarity based on the sentence embeddings. We also provide the Pearson correlation $r$ to make the results comparable to Misra et al. However, we showed BIBREF22 that Pearson correlation has some serious drawbacks and should be avoided for comparing STS systems. The results are depicted in Table TABREF12.\n",
      "Unsupervised methods like tf-idf, average GloVe embeddings or InferSent perform rather badly on this dataset with low scores. Training SBERT in the 10-fold cross-validation setup gives a performance that is nearly on-par with BERT.\n",
      "However, in the cross-topic evaluation, we observe a performance drop of SBERT by about 7 points Spearman correlation. To be considered similar, arguments should address the same claims and provide the same reasoning. BERT is able to use attention to compare directly both sentences (e.g. word-by-word comparison), while SBERT must map individual sentences from an unseen topic to a vector space such that arguments with similar claims and reasons are close. This is a much more challenging task, which appears to require more than just two topics for training to work on-par with BERT.\n",
      "Evaluation - Semantic Textual Similarity ::: Wikipedia Sections Distinction\n",
      "ein-dor-etal-2018-learning use Wikipedia to create a thematically fine-grained train, dev and test set for sentence embeddings methods. Wikipedia articles are separated into distinct sections focusing on certain aspects. Dor et al. assume that sentences in the same section are thematically closer than sentences in different sections. They use this to create a large dataset of weakly labeled sentence triplets: The anchor and the positive example come from the same section, while the negative example comes from a different section of the same article. For example, from the Alice Arnold article: Anchor: Arnold joined the BBC Radio Drama Company in 1988., positive: Arnold gained media attention in May 2012., negative: Balding and Arnold are keen amateur golfers.\n",
      "We use the dataset from Dor et al. We use the Triplet Objective, train SBERT for one epoch on the about 1.8 Million training triplets and evaluate it on the 222,957 test triplets. Test triplets are from a distinct set of Wikipedia articles. As evaluation metric, we use accuracy: Is the positive example closer to the anchor than the negative example?\n",
      "Results are presented in Table TABREF14. Dor et al. fine-tuned a BiLSTM architecture with triplet loss to derive sentence embeddings for this dataset. As the table shows, SBERT clearly outperforms the BiLSTM approach by Dor et al.\n",
      "Evaluation - SentEval\n",
      "SentEval BIBREF6 is a popular toolkit to evaluate the quality of sentence embeddings. Sentence embeddings are used as features for a logistic regression classifier. The logistic regression classifier is trained on various tasks in a 10-fold cross-validation setup and the prediction accuracy is computed for the test-fold.\n",
      "The purpose of SBERT sentence embeddings are not to be used for transfer learning for other tasks. Here, we think fine-tuning BERT as described by devlin2018bert for new tasks is the more suitable method, as it updates all layers of the BERT network. However, SentEval can still give an impression on the quality of our sentence embeddings for various tasks.\n",
      "We compare the SBERT sentence embeddings to other sentence embeddings methods on the following seven SentEval transfer tasks:\n",
      "MR: Sentiment prediction for movie reviews snippets on a five start scale BIBREF25.\n",
      "CR: Sentiment prediction of customer product reviews BIBREF26.\n",
      "SUBJ: Subjectivity prediction of sentences from movie reviews and plot summaries BIBREF27.\n",
      "MPQA: Phrase level opinion polarity classification from newswire BIBREF28.\n",
      "SST: Stanford Sentiment Treebank with binary labels BIBREF29.\n",
      "TREC: Fine grained question-type classification from TREC BIBREF30.\n",
      "MRPC: Microsoft Research Paraphrase Corpus from parallel news sources BIBREF31.\n",
      "The results can be found in Table TABREF15. SBERT is able to achieve the best performance in 5 out of 7 tasks. The average performance increases by about 2 percentage points compared to InferSent as well as the Universal Sentence Encoder. Even though transfer learning is not the purpose of SBERT, it outperforms other state-of-the-art sentence embeddings methods on this task.\n",
      "It appears that the sentence embeddings from SBERT capture well sentiment information: We observe large improvements for all sentiment tasks (MR, CR, and SST) from SentEval in comparison to InferSent and Universal Sentence Encoder.\n",
      "The only dataset where SBERT is significantly worse than Universal Sentence Encoder is the TREC dataset. Universal Sentence Encoder was pre-trained on question-answering data, which appears to be beneficial for the question-type classification task of the TREC dataset.\n",
      "Average BERT embeddings or using the CLS-token output from a BERT network achieved bad results for various STS tasks (Table TABREF6), worse than average GloVe embeddings. However, for SentEval, average BERT embeddings and the BERT CLS-token output achieves decent results (Table TABREF15), outperforming average GloVe embeddings. The reason for this are the different setups. For the STS tasks, we used cosine-similarity to estimate the similarities between sentence embeddings. Cosine-similarity treats all dimensions equally. In contrast, SentEval fits a logistic regression classifier to the sentence embeddings. This allows that certain dimensions can have higher or lower impact on the classification result.\n",
      "We conclude that average BERT embeddings / CLS-token output from BERT return sentence embeddings that are infeasible to be used with cosine-similarity or with Manhatten / Euclidean distance. For transfer learning, they yield slightly worse results than InferSent or Universal Sentence Encoder. However, using the described fine-tuning setup with a siamese network structure on NLI datasets yields sentence embeddings that achieve a new state-of-the-art for the SentEval toolkit.\n",
      "Ablation Study\n",
      "We have demonstrated strong empirical results for the quality of SBERT sentence embeddings. In this section, we perform an ablation study of different aspects of SBERT in order to get a better understanding of their relative importance.\n",
      "We evaluated different pooling strategies (MEAN, MAX, and CLS). For the classification objective function, we evaluate different concatenation methods. For each possible configuration, we train SBERT with 10 different random seeds and average the performances.\n",
      "The objective function (classification vs. regression) depends on the annotated dataset. For the classification objective function, we train SBERT-base on the SNLI and the Multi-NLI dataset. For the regression objective function, we train on the training set of the STS benchmark dataset. Performances are measured on the development split of the STS benchmark dataset. Results are shown in Table TABREF23.\n",
      "When trained with the classification objective function on NLI data, the pooling strategy has a rather minor impact. The impact of the concatenation mode is much larger. InferSent BIBREF4 and Universal Sentence Encoder BIBREF5 both use $(u, v, |u-v|, u*v)$ as input for a softmax classifier. However, in our architecture, adding the element-wise $u*v$ decreased the performance.\n",
      "The most important component is the element-wise difference $|u-v|$. Note, that the concatenation mode is only relevant for training the softmax classifier. At inference, when predicting similarities for the STS benchmark dataset, only the sentence embeddings $u$ and $v$ are used in combination with cosine-similarity. The element-wise difference measures the distance between the dimensions of the two sentence embeddings, ensuring that similar pairs are closer and dissimilar pairs are further apart.\n",
      "When trained with the regression objective function, we observe that the pooling strategy has a large impact. There, the MAX strategy perform significantly worse than MEAN or CLS-token strategy. This is in contrast to BIBREF4, who found it beneficial for the BiLSTM-layer of InferSent to use MAX instead of MEAN pooling.\n",
      "Computational Efficiency\n",
      "Sentence embeddings need potentially be computed for Millions of sentences, hence, a high computation speed is desired. In this section, we compare SBERT to average GloVe embeddings, InferSent BIBREF4, and Universal Sentence Encoder BIBREF5.\n",
      "For our comparison we use the sentences from the STS benchmark BIBREF10. We compute average GloVe embeddings using a simple for-loop with python dictionary lookups and NumPy. InferSent is based on PyTorch. For Universal Sentence Encoder, we use the TensorFlow Hub version, which is based on TensorFlow. SBERT is based on PyTorch. For improved computation of sentence embeddings, we implemented a smart batching strategy: Sentences with similar lengths are grouped together and are only padded to the longest element in a mini-batch. This drastically reduces computational overhead from padding tokens.\n",
      "Performances were measured on a server with Intel i7-5820K CPU @ 3.30GHz, Nvidia Tesla V100 GPU, CUDA 9.2 and cuDNN. The results are depicted in Table TABREF26.\n",
      "On CPU, InferSent is about 65% faster than SBERT. This is due to the much simpler network architecture. InferSent uses a single BiLSTM layer, while BERT uses 12 stacked transformer layers. However, an advantage of transformer networks is the computational efficiency on GPUs. There, SBERT with smart batching is about 9% faster than InferSent and about 55% faster than Universal Sentence Encoder. Smart batching achieves a speed-up of 89% on CPU and 48% on GPU. Average GloVe embeddings is obviously by a large margin the fastest method to compute sentence embeddings.\n",
      "Conclusion\n",
      "We showed that BERT out-of-the-box maps sentences to a vector space that is rather unsuitable to be used with common similarity measures like cosine-similarity. The performance for seven STS tasks was below the performance of average GloVe embeddings.\n",
      "To overcome this shortcoming, we presented Sentence-BERT (SBERT). SBERT fine-tunes BERT in a siamese / triplet network architecture. We evaluated the quality on various common benchmarks, where it could achieve a significant improvement over state-of-the-art sentence embeddings methods. Replacing BERT with RoBERTa did not yield a significant improvement in our experiments.\n",
      "SBERT is computationally efficient. On a GPU, it is about 9% faster than InferSent and about 55% faster than Universal Sentence Encoder. SBERT can be used for tasks which are computationally not feasible to be modeled with BERT. For example, clustering of 10,000 sentences with hierarchical clustering requires with BERT about 65 hours, as around 50 Million sentence combinations must be computed. With SBERT, we were able to reduce the effort to about 5 seconds.\n",
      "Acknowledgments\n",
      "This work has been supported by the German Research Foundation through the German-Israeli Project Cooperation (DIP, grant DA 1600/1-1 and grant GU 798/17-1). It has been co-funded by the German Federal Ministry of Education and Research (BMBF) under the promotional references 03VP02540 (ArgumenText).\n",
      "\n",
      "Passage2:\n",
      "\\section*{Dynamical Behaviour of $O$ in Lattice Gases}\n",
      "\n",
      "The dynamical behaviour of the anisotropic order parameter  $m$ [see Eq.~\\eqref{eq:def-m} in the Letter] following a quench to the critical point is well described by\n",
      "the Gaussian theory for all the three lattice gas models studied, $i.e.,$ driven lattice gas with either constant (IDLG) or random (RDLG) infinite drive and equilibrium lattice gas (LG). In other words, in the short-time regime, $m \\sim t^{1/2}$ [see Eq. \\eqref{eq:mt}] and the Binder cumulant $g$ of the lowest transverse mode [defined in Eq. \\eqref{eq:binder}] is zero in this regime. The alternative order parameter $O,$ however, distinguishes between the driven (IDLG, RDLG) and the equilibrium (LG) lattice gases. \n",
      "\n",
      "In order to understand  this, we first write the phenomenological scaling form for $O$,  analogous to Eq. \\eqref{eq:scalingass} in  the Letter,\n",
      "\\begin{eqnarray}\n",
      "O (t, L_{\\parallel} ; S_\\Delta) = L_{\\parallel}^{-\\beta/[\\nu(1+\\Delta)]} \\tilde f_O (t/L_{\\parallel}^{z/(1+\\Delta)} ; S_\\Delta).\\quad\n",
      "\\label{eq:Oscalingass}\n",
      "\\end{eqnarray}\n",
      "We already remarked that, in the LG, this scaling form is not compatible with the prediction $O \\sim t^{1/8}  L_{\\parallel}^{-1/2}$ of the Gaussian theory.  However, following Ref. \\cite{AS2002}, it can be argued that, at short times, the only dependence of $O$ on the system size $L_{\\parallel}$ is of the form $O \\sim L_\\parallel^{-1/2}$ which is very well confirmed by numerical simulations. Accordingly,  the generic behaviour of $O$ can be assumed to be\n",
      "\\begin{eqnarray}\n",
      "O \\sim t^{\\alpha} L_\\parallel^{-1/2}, \\label{eq:O}\n",
      "\\end{eqnarray}\n",
      "where $\\alpha$ is a phenomenological exponent to be determined. This, along with Eq. \\eqref{eq:Oscalingass}, implies $\\tilde f_O(x) \\sim x^{\\alpha}.$ Comparing the finite-size behaviour in Eq.~\\eqref{eq:O} with Eq.~\\eqref{eq:Oscalingass} one actually infers,\n",
      "\\begin{eqnarray}\n",
      "\\alpha &=& \\frac{1+ \\Delta -2 \\beta/\\nu}{2 \\, (4- \\eta)}. \\label{eq:alpha}\n",
      "\\end{eqnarray}\n",
      "This equation, together with the hyperscaling relation $\\Delta - 2 \\beta/\\nu= - \\eta$ in two spatial dimensions, shows that the prediction $\\alpha = 1/8$ of the Gaussian theory [see Eq. \\eqref{eq:Ot}] can be obtained only when $\\eta=0,$ which is the case for the IDLG (exactly) and the RDLG (approximately) but not for the LG. \n",
      "\n",
      "On the other hand,  Eq.~\\eqref{eq:alpha} predicts $\\alpha = 1/10$ upon substituting the values of the critical exponents corresponding to the Ising  universality class (LG). This is consistent with the numerical simulation results presented in the main text, see Fig. \\ref{fig:ising}(b) therein.\n",
      "\n",
      "\\begin{figure}[th]\n",
      "\\vspace*{0.2 cm}\n",
      " \\centering\n",
      " \\includegraphics[width=10 cm]{./compare_binder.pdf}\n",
      "\n",
      "\\caption{Comparison between the temporal evolution of the Binder cumulants $g$ corresponding to the $12^{th}$ transverse mode, $i.e.,$ with $n_\\perp =12,$ in the LG (lowest curve), IDLG and RDLG (two upper curves) on a $32 \\times 32$ lattice. \\label{fig:b}}\n",
      " \\label{fig:binder}\n",
      "\\end{figure}\n",
      "\n",
      "\n",
      "The emergence of this new value $1/10$ of the exponent $\\alpha$ must be traced back to the non-Gaussian nature of higher fluctuating modes in the LG. In fact, even though the lowest mode behaves identically in all the three models we considered,  characterized by the same behaviour of $m$, higher modes show a significant difference in the non-driven case.  \n",
      "\n",
      "\n",
      "To illustrate this, we measured the Binder cumulants of higher modes which is defined  analogously to Eq.~(11), using transverse modes other than the first, i.e., with $\\mu=\\tilde \\sigma(0,2 \\pi n_\\bot/L_\\bot)$ and $n_\\bot>1.$  \n",
      " Figure \\ref{fig:b} compares the same for all the three lattice gases for the mode with $n_\\perp =12$ on a $32 \\times 32$ lattice. Clearly, the curve corresponding to the LG (lowest, blue) departs from Gaussian behaviour $g=0$ (in practice, $e.g.,$ $|g| \\lesssim 0.005,$ corresponding to the shaded gray area) much earlier than it does for the IDLG  or RDLG (two upper curves, red and green respectively).\n",
      "\n",
      "Accordingly, the different dynamical behaviour of $O$, which involves a sum over all modes, can be attributed to the non-Gaussian nature of the higher modes in the LG. \n",
      "Such a departure is not entirely surprising. In fact, for higher modes, mesoscopic descriptions such as the ones in Eqs. \\eqref{eq:L-DLG} or \\eqref{eq:g_evol} are not expected to hold, while the anisotropy at the microscopic level could be the mechanism leading to the Gaussianity of higher modes in the driven models.\n",
      "\n",
      "\n",
      "\n",
      "\n"
     ]
    }
   ],
   "source": [
    "for choices in new_datasets:\n",
    "    print(len(choices))\n",
    "    print(sum([c[0] for c in choices]), length)\n",
    "    context = ''\n",
    "    for i, c in enumerate(choices):\n",
    "       context = context + f'Passage{i+1}:\\n' + datasets[c[1]]['context'] + '\\n\\n'\n",
    "    print(context)\n",
    "    break"
   ]
  }
 ],
 "metadata": {
  "kernelspec": {
   "display_name": "lceg",
   "language": "python",
   "name": "python3"
  },
  "language_info": {
   "codemirror_mode": {
    "name": "ipython",
    "version": 3
   },
   "file_extension": ".py",
   "mimetype": "text/x-python",
   "name": "python",
   "nbconvert_exporter": "python",
   "pygments_lexer": "ipython3",
   "version": "3.10.14"
  }
 },
 "nbformat": 4,
 "nbformat_minor": 2
}
