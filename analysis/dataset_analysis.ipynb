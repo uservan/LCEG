{
 "cells": [
  {
   "cell_type": "code",
   "execution_count": 3,
   "metadata": {},
   "outputs": [],
   "source": [
    "import os\n",
    "from datasets import load_dataset\n",
    "import datasets\n",
    "from datasets import Value, Sequence\n",
    "import sys\n",
    "import math\n",
    "import transformers\n",
    "import json\n",
    "\n",
    "cache_dir = '/users/PDS0352/wyang107/project/LCEG/model_cache/data'"
   ]
  },
  {
   "cell_type": "code",
   "execution_count": 3,
   "metadata": {},
   "outputs": [],
   "source": [
    "# InfiniteBench = load_dataset('xinrongzhang2022/InfiniteBench', cache_dir=cache_dir, streaming= True)\n",
    "ft = datasets.Features({\"id\": Value(\"int64\"), \"context\": Value(\"string\"), \"input\": Value(\"string\"), \"answer\": Sequence(Value(\"string\")), \"options\": Sequence(Value(\"string\"))})\n",
    "InfiniteBench = load_dataset(\"xinrongzhang2022/InfiniteBench\", features=ft, cache_dir=cache_dir, streaming=True)"
   ]
  },
  {
   "cell_type": "code",
   "execution_count": 32,
   "metadata": {},
   "outputs": [],
   "source": [
    "tokenizer = transformers.AutoTokenizer.from_pretrained('meta-llama/Llama-2-7b-hf')"
   ]
  },
  {
   "cell_type": "code",
   "execution_count": 37,
   "metadata": {},
   "outputs": [],
   "source": [
    "# 'gsm100'\n",
    "# 'codeU'\n",
    "# 'multidoc_qa'  'legal_contract_qa', 'financial_qa', 'natural_question' 'scientific_qa' \n",
    "# 'news_summ', 'patent_summ' 'tv_show_summ' 'review_summ',  'meeting_summ' \n",
    "dataset = load_dataset('L4NLP/LEval', name='gsm100'  ,split='test', cache_dir=cache_dir, streaming= True)"
   ]
  },
  {
   "cell_type": "code",
   "execution_count": 38,
   "metadata": {},
   "outputs": [
    {
     "name": "stdout",
     "output_type": "stream",
     "text": [
      "dict_keys(['instructions', 'input', 'outputs', 'source', 'evaluation'])\n",
      "1 1 exam\n",
      "5451\n"
     ]
    }
   ],
   "source": [
    "for data in dataset:\n",
    "    print(data.keys())\n",
    "    print(len(data['instructions']), len(data['outputs']), data['evaluation'])\n",
    "    tokens = tokenizer.encode(data['input'])\n",
    "    print(len(tokens))\n",
    "    break"
   ]
  },
  {
   "cell_type": "code",
   "execution_count": null,
   "metadata": {},
   "outputs": [],
   "source": []
  },
  {
   "cell_type": "code",
   "execution_count": 11,
   "metadata": {},
   "outputs": [],
   "source": [
    "path = ['/users/PDS0352/wyang107/project/LCEG/longbench/pred/llama2-7b-hf-slimpajama-ntk-32k/result.json', \n",
    "         '/users/PDS0352/wyang107/project/LCEG/longbench/pred/llama2-7b-hf-slimpajama-pi-32k/result.json']\n",
    "results = []\n",
    "for p in path:\n",
    "    results.append(json.load(open(p, 'r')))\n"
   ]
  },
  {
   "cell_type": "code",
   "execution_count": 17,
   "metadata": {},
   "outputs": [
    {
     "name": "stdout",
     "output_type": "stream",
     "text": [
      "qasper {'0-2k': {'score': 0, 'num': 0}, '2-4k': {'score': 35.51, 'num': 53}, '4-6k': {'score': 26.43, 'num': 69}, '6-8k': {'score': 28.64, 'num': 55}, '8k+': {'score': 23.96, 'num': 23}}\n",
      "multifieldqa_en {'0-2k': {'score': 10.85, 'num': 6}, '2-4k': {'score': 13.94, 'num': 27}, '4-6k': {'score': 17.88, 'num': 17}, '6-8k': {'score': 28.65, 'num': 23}, '8k+': {'score': 23.11, 'num': 77}}\n",
      "hotpotqa {'0-2k': {'score': 0, 'num': 0}, '2-4k': {'score': 25.91, 'num': 3}, '4-6k': {'score': 12.55, 'num': 8}, '6-8k': {'score': 10.33, 'num': 11}, '8k+': {'score': 9.19, 'num': 178}}\n",
      "2wikimqa {'0-2k': {'score': 13.04, 'num': 5}, '2-4k': {'score': 12.69, 'num': 12}, '4-6k': {'score': 10.68, 'num': 36}, '6-8k': {'score': 8.92, 'num': 65}, '8k+': {'score': 9.94, 'num': 82}}\n",
      "musique {'0-2k': {'score': 0, 'num': 0}, '2-4k': {'score': 0, 'num': 0}, '4-6k': {'score': 0, 'num': 0}, '6-8k': {'score': 10.0, 'num': 1}, '8k+': {'score': 5.93, 'num': 199}}\n",
      "gov_report {'0-2k': {'score': 0, 'num': 0}, '2-4k': {'score': 35.37, 'num': 12}, '4-6k': {'score': 34.77, 'num': 27}, '6-8k': {'score': 28.94, 'num': 24}, '8k+': {'score': 25.61, 'num': 137}}\n",
      "qmsum {'0-2k': {'score': 0, 'num': 0}, '2-4k': {'score': 19.78, 'num': 1}, '4-6k': {'score': 0, 'num': 0}, '6-8k': {'score': 20.22, 'num': 21}, '8k+': {'score': 22.64, 'num': 178}}\n",
      "multi_news {'0-2k': {'score': 27.16, 'num': 73}, '2-4k': {'score': 24.98, 'num': 83}, '4-6k': {'score': 18.04, 'num': 26}, '6-8k': {'score': 4.34, 'num': 9}, '8k+': {'score': 0.06, 'num': 9}}\n",
      "trec {'0-2k': {'score': 0, 'num': 0}, '2-4k': {'score': 60.61, 'num': 33}, '4-6k': {'score': 56.25, 'num': 32}, '6-8k': {'score': 68.42, 'num': 38}, '8k+': {'score': 74.23, 'num': 97}}\n",
      "triviaqa {'0-2k': {'score': 100.0, 'num': 1}, '2-4k': {'score': 88.33, 'num': 20}, '4-6k': {'score': 94.44, 'num': 15}, '6-8k': {'score': 85.71, 'num': 7}, '8k+': {'score': 88.88, 'num': 157}}\n",
      "samsum {'0-2k': {'score': 16.67, 'num': 1}, '2-4k': {'score': 38.95, 'num': 26}, '4-6k': {'score': 41.65, 'num': 21}, '6-8k': {'score': 43.95, 'num': 24}, '8k+': {'score': 43.4, 'num': 128}}\n",
      "passage_count {'0-2k': {'score': 0, 'num': 0}, '2-4k': {'score': 0, 'num': 0}, '4-6k': {'score': 0.0, 'num': 1}, '6-8k': {'score': 20.0, 'num': 5}, '8k+': {'score': 2.11, 'num': 194}}\n",
      "passage_retrieval_en {'0-2k': {'score': 0, 'num': 0}, '2-4k': {'score': 0, 'num': 0}, '4-6k': {'score': 0, 'num': 0}, '6-8k': {'score': 0, 'num': 0}, '8k+': {'score': 5.75, 'num': 200}}\n",
      "lcc {'0-2k': {'score': 52.56, 'num': 36}, '2-4k': {'score': 57.1, 'num': 307}, '4-6k': {'score': 45.75, 'num': 73}, '6-8k': {'score': 50.34, 'num': 38}, '8k+': {'score': 56.17, 'num': 46}}\n",
      "repobench-p {'0-2k': {'score': 0, 'num': 0}, '2-4k': {'score': 49.75, 'num': 4}, '4-6k': {'score': 48.87, 'num': 63}, '6-8k': {'score': 46.13, 'num': 75}, '8k+': {'score': 45.91, 'num': 358}}\n",
      "narrativeqa {'0-2k': {'score': 0, 'num': 0}, '2-4k': {'score': 0, 'num': 0}, '4-6k': {'score': 0, 'num': 0}, '6-8k': {'score': 0, 'num': 0}, '8k+': {'score': 18.0, 'num': 200}}\n"
     ]
    }
   ],
   "source": [
    "for dataset in results[0].keys():\n",
    "    print(dataset, results[0][dataset])"
   ]
  },
  {
   "cell_type": "code",
   "execution_count": 16,
   "metadata": {},
   "outputs": [
    {
     "name": "stdout",
     "output_type": "stream",
     "text": [
      "qasper {'0-2k': {'score': 0, 'num': 0}, '2-4k': {'score': 35.51, 'num': 53}, '4-6k': {'score': 26.43, 'num': 69}, '6-8k': {'score': 28.64, 'num': 55}, '8k+': {'score': 23.96, 'num': 23}}\n",
      "multifieldqa_en {'0-2k': {'score': 10.85, 'num': 6}, '2-4k': {'score': 13.94, 'num': 27}, '4-6k': {'score': 17.88, 'num': 17}, '6-8k': {'score': 28.65, 'num': 23}, '8k+': {'score': 23.11, 'num': 77}}\n",
      "hotpotqa {'0-2k': {'score': 0, 'num': 0}, '2-4k': {'score': 25.91, 'num': 3}, '4-6k': {'score': 12.55, 'num': 8}, '6-8k': {'score': 10.33, 'num': 11}, '8k+': {'score': 9.19, 'num': 178}}\n",
      "2wikimqa {'0-2k': {'score': 13.04, 'num': 5}, '2-4k': {'score': 12.69, 'num': 12}, '4-6k': {'score': 10.68, 'num': 36}, '6-8k': {'score': 8.92, 'num': 65}, '8k+': {'score': 9.94, 'num': 82}}\n",
      "musique {'0-2k': {'score': 0, 'num': 0}, '2-4k': {'score': 0, 'num': 0}, '4-6k': {'score': 0, 'num': 0}, '6-8k': {'score': 10.0, 'num': 1}, '8k+': {'score': 5.93, 'num': 199}}\n",
      "gov_report {'0-2k': {'score': 0, 'num': 0}, '2-4k': {'score': 35.37, 'num': 12}, '4-6k': {'score': 34.77, 'num': 27}, '6-8k': {'score': 28.94, 'num': 24}, '8k+': {'score': 25.61, 'num': 137}}\n",
      "qmsum {'0-2k': {'score': 0, 'num': 0}, '2-4k': {'score': 19.78, 'num': 1}, '4-6k': {'score': 0, 'num': 0}, '6-8k': {'score': 20.22, 'num': 21}, '8k+': {'score': 22.64, 'num': 178}}\n",
      "multi_news {'0-2k': {'score': 27.16, 'num': 73}, '2-4k': {'score': 24.98, 'num': 83}, '4-6k': {'score': 18.04, 'num': 26}, '6-8k': {'score': 4.34, 'num': 9}, '8k+': {'score': 0.06, 'num': 9}}\n",
      "trec {'0-2k': {'score': 0, 'num': 0}, '2-4k': {'score': 60.61, 'num': 33}, '4-6k': {'score': 56.25, 'num': 32}, '6-8k': {'score': 68.42, 'num': 38}, '8k+': {'score': 74.23, 'num': 97}}\n",
      "triviaqa {'0-2k': {'score': 100.0, 'num': 1}, '2-4k': {'score': 88.33, 'num': 20}, '4-6k': {'score': 94.44, 'num': 15}, '6-8k': {'score': 85.71, 'num': 7}, '8k+': {'score': 88.88, 'num': 157}}\n",
      "samsum {'0-2k': {'score': 16.67, 'num': 1}, '2-4k': {'score': 38.95, 'num': 26}, '4-6k': {'score': 41.65, 'num': 21}, '6-8k': {'score': 43.95, 'num': 24}, '8k+': {'score': 43.4, 'num': 128}}\n",
      "passage_count {'0-2k': {'score': 0, 'num': 0}, '2-4k': {'score': 0, 'num': 0}, '4-6k': {'score': 0.0, 'num': 1}, '6-8k': {'score': 20.0, 'num': 5}, '8k+': {'score': 2.11, 'num': 194}}\n",
      "passage_retrieval_en {'0-2k': {'score': 0, 'num': 0}, '2-4k': {'score': 0, 'num': 0}, '4-6k': {'score': 0, 'num': 0}, '6-8k': {'score': 0, 'num': 0}, '8k+': {'score': 5.75, 'num': 200}}\n",
      "lcc {'0-2k': {'score': 52.56, 'num': 36}, '2-4k': {'score': 57.1, 'num': 307}, '4-6k': {'score': 45.75, 'num': 73}, '6-8k': {'score': 50.34, 'num': 38}, '8k+': {'score': 56.17, 'num': 46}}\n",
      "repobench-p {'0-2k': {'score': 0, 'num': 0}, '2-4k': {'score': 49.75, 'num': 4}, '4-6k': {'score': 48.87, 'num': 63}, '6-8k': {'score': 46.13, 'num': 75}, '8k+': {'score': 45.91, 'num': 358}}\n",
      "narrativeqa {'0-2k': {'score': 0, 'num': 0}, '2-4k': {'score': 0, 'num': 0}, '4-6k': {'score': 0, 'num': 0}, '6-8k': {'score': 0, 'num': 0}, '8k+': {'score': 18.0, 'num': 200}}\n"
     ]
    }
   ],
   "source": [
    "import matplotlib.pyplot as plt\n",
    "def plot_line(result):\n",
    "    for dataset in result.keys():\n",
    "        print(dataset, result[dataset])\n",
    "\n",
    "    # # 示例数据\n",
    "    # x = ['一月', '二月', '三月', '四月', '五月']  # X轴为字符串\n",
    "    # y = [10, 20, 15, 25, 30]\n",
    "    # sizes = [100, 300, 200, 400, 500]  # 点的大小\n",
    "\n",
    "    # # 创建折线图\n",
    "    # plt.plot(x, y, linestyle='-', marker='o', color='b')  # 绘制折线\n",
    "    # plt.scatter(x, y, s=sizes, color='r', alpha=0.5)  # 绘制点并设置大小\n",
    "\n",
    "    # # 设置图表标题和标签\n",
    "    # plt.title(\"折线图 - 点大小代表数量\")\n",
    "    # plt.xlabel(\"月份\")\n",
    "    # plt.ylabel(\"数量\")\n",
    "\n",
    "    # # 显示图表\n",
    "    # plt.show()\n",
    "\n",
    "plot_line(results[0])"
   ]
  }
 ],
 "metadata": {
  "kernelspec": {
   "display_name": "lceg",
   "language": "python",
   "name": "python3"
  },
  "language_info": {
   "codemirror_mode": {
    "name": "ipython",
    "version": 3
   },
   "file_extension": ".py",
   "mimetype": "text/x-python",
   "name": "python",
   "nbconvert_exporter": "python",
   "pygments_lexer": "ipython3",
   "version": "3.10.15"
  }
 },
 "nbformat": 4,
 "nbformat_minor": 2
}
